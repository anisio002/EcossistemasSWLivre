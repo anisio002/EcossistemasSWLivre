{
 "cells": [
  {
   "cell_type": "markdown",
   "metadata": {},
   "source": [
    "# Métricas de releases do repositório salic minc"
   ]
  },
  {
   "cell_type": "code",
   "execution_count": 1,
   "metadata": {},
   "outputs": [],
   "source": [
    "import os\n",
    "\n",
    "github_token = \"your_github_token\""
   ]
  },
  {
   "cell_type": "code",
   "execution_count": 2,
   "metadata": {},
   "outputs": [],
   "source": [
    "import requests\n",
    "\n",
    "headers = {\"Authorization\": f\"token: {github_token}\"}\n",
    "\n",
    "salic_releases = requests.get(\"https://api.github.com/repos/culturagovbr/salic-minc/releases?page=1&per_page=100\",\n",
    "                              headers=headers).links"
   ]
  },
  {
   "cell_type": "code",
   "execution_count": 3,
   "metadata": {},
   "outputs": [],
   "source": [
    "import re\n",
    "\n",
    "last_page_url = salic_releases[\"last\"][\"url\"]\n",
    "page_number_regex = re.search(r'page=\\d\\&', last_page_url)\n",
    "last_page_number = int(page_number_regex.group(0)[-2])"
   ]
  },
  {
   "cell_type": "markdown",
   "metadata": {},
   "source": [
    "## Coletando todas as releases"
   ]
  },
  {
   "cell_type": "code",
   "execution_count": 4,
   "metadata": {},
   "outputs": [],
   "source": [
    "from datetime import datetime\n",
    "\n",
    "\n",
    "all_releases = {\"releases\": []}\n",
    "for page_number in range(1, last_page_number + 1):\n",
    "    releases_json = requests.get(f\"https://api.github.com/repos/culturagovbr/salic-minc/releases?page={page_number}&per_page=100\",\n",
    "                                 headers=headers).json()\n",
    "    for i, _ in enumerate(releases_json):\n",
    "        datetime_object = datetime.strptime(releases_json[i][\"created_at\"], '%Y-%m-%dT%H:%M:%SZ')\n",
    "        releases_dict = {\n",
    "            \"date\": releases_json[i][\"created_at\"],\n",
    "            \"month\": datetime_object.month,\n",
    "            \"year\": datetime_object.year\n",
    "        }\n",
    "        all_releases[\"releases\"].append(releases_dict)"
   ]
  },
  {
   "cell_type": "code",
   "execution_count": 5,
   "metadata": {},
   "outputs": [],
   "source": [
    "releases_month = []\n",
    "\n",
    "for release in all_releases[\"releases\"]:\n",
    "    if str(release[\"month\"]) + \"/\" + str(release[\"year\"]) not in releases_month:\n",
    "        releases_month.append(str(release[\"month\"]) + \"/\" + str(release[\"year\"]))\n",
    "\n",
    "dict_months = dict.fromkeys(releases_month, 0)\n",
    "\n",
    "for item in all_releases[\"releases\"]:\n",
    "    dict_months[str(item[\"month\"]) + \"/\" + str(item[\"year\"])] += 1\n"
   ]
  },
  {
   "cell_type": "markdown",
   "metadata": {},
   "source": [
    "## Ordenando releases por data crescente"
   ]
  },
  {
   "cell_type": "code",
   "execution_count": 6,
   "metadata": {},
   "outputs": [],
   "source": [
    "from collections import OrderedDict\n",
    "\n",
    "dict_months = OrderedDict(dict_months) \n",
    "dreversed = OrderedDict()\n",
    "for k in reversed(dict_months):\n",
    "    dreversed[k] = dict_months[k]\n",
    "ordered_releases = dict(dreversed)"
   ]
  },
  {
   "cell_type": "markdown",
   "metadata": {},
   "source": [
    "## Plotando gráfico de releases por Mês/ano"
   ]
  },
  {
   "cell_type": "code",
   "execution_count": 8,
   "metadata": {},
   "outputs": [
    {
     "data": {
      "image/png": "[encoded data removed]",
      "text/plain": [
       "<Figure size 432x288 with 1 Axes>"
      ]
     },
     "metadata": {
      "needs_background": "light"
     },
     "output_type": "display_data"
    },
    {
     "data": {
      "text/plain": [
       "<Figure size 1728x1008 with 0 Axes>"
      ]
     },
     "metadata": {},
     "output_type": "display_data"
    }
   ],
   "source": [
    "import matplotlib.pyplot as plt\n",
    "\n",
    "titulo_grafico = 'Grafico Nº Releases x Mês doA ano'\n",
    "plt.xticks(rotation='vertical', fontsize=10)\n",
    "plt.title(titulo_grafico)\n",
    "plt.ylabel('Nº Releases')\n",
    "plt.xlabel('Mês/ano')\n",
    "plt.bar(ordered_releases.keys(), ordered_releases.values(), width=.5, color='g')\n",
    "plt.figure(figsize=(24,14))\n",
    "plt.show()"
   ]
  }
 ],
 "metadata": {
  "kernelspec": {
   "display_name": "Python 3",
   "language": "python",
   "name": "python3"
  },
  "language_info": {
   "codemirror_mode": {
    "name": "ipython",
    "version": 3
   },
   "file_extension": ".py",
   "mimetype": "text/x-python",
   "name": "python",
   "nbconvert_exporter": "python",
   "pygments_lexer": "ipython3",
   "version": "3.7.3"
  }
 },
 "nbformat": 4,
 "nbformat_minor": 2
}
