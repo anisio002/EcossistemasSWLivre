{
 "cells": [
  {
   "cell_type": "markdown",
   "metadata": {},
   "source": [
    "# Métricas Gerais Do Ecossistema"
   ]
  },
  {
   "cell_type": "code",
   "execution_count": 3,
   "metadata": {},
   "outputs": [],
   "source": [
    "from github import Github\n",
    "from datetime import datetime\n",
    "import pandas as pd\n",
    "\n",
    "'''\n",
    "Github won't let me commit the token, so you should generate your own using this link:\n",
    "https://github.com/settings/tokens/new\n",
    "''' \n",
    "g = Github(\"<token>\")\n",
    "org = g.get_organization(\"lappis-unb\")\n",
    "projects  = ['tais', 'Bottis', 'rasa-ptbr-boilerplate','BotFlow', 'BotFlowAPI', 'PromovaCultura', 'salic-ml', 'salic-ml-frontend', 'salic-ml-web' , 'lappis-learning', 'EcossistemasSWLivre'   ]"
   ]
  },
  {
   "cell_type": "code",
   "execution_count": 9,
   "metadata": {},
   "outputs": [],
   "source": [
    "def return_loc(repo):\n",
    "    # Lines of code values from sep. 30, 2019.\n",
    "    d = {\n",
    "        'tais': 25976,\n",
    "        'Bottis': 6006,\n",
    "        'rasa-ptbr-boilerplate': 7226,\n",
    "        'BotFlow': 4690,\n",
    "        'BotFlowAPI': 2486,\n",
    "        'PromovaCultura': 129436,\n",
    "        'salic-ml': 85804,\n",
    "        'salic-ml-web': 2320,\n",
    "        'salic-ml-frontend': 20926,\n",
    "        'lappis-learning': 2174,\n",
    "        'EcossistemasSWLivre': 521923\n",
    "    }\n",
    "    return d[repo]"
   ]
  },
  {
   "cell_type": "code",
   "execution_count": 11,
   "metadata": {},
   "outputs": [
    {
     "data": {
      "text/html": [
       "<div>\n",
       "<style scoped>\n",
       "    .dataframe tbody tr th:only-of-type {\n",
       "        vertical-align: middle;\n",
       "    }\n",
       "\n",
       "    .dataframe tbody tr th {\n",
       "        vertical-align: top;\n",
       "    }\n",
       "\n",
       "    .dataframe thead th {\n",
       "        text-align: right;\n",
       "    }\n",
       "</style>\n",
       "<table border=\"1\" class=\"dataframe\">\n",
       "  <thead>\n",
       "    <tr style=\"text-align: right;\">\n",
       "      <th></th>\n",
       "      <th>Projeto</th>\n",
       "      <th>Linguagem</th>\n",
       "      <th>Linhas de Código</th>\n",
       "      <th>Esforço (Meses)</th>\n",
       "      <th>Commits</th>\n",
       "    </tr>\n",
       "  </thead>\n",
       "  <tbody>\n",
       "    <tr>\n",
       "      <td>0</td>\n",
       "      <td>tais</td>\n",
       "      <td>Jupyter Notebook</td>\n",
       "      <td>25976</td>\n",
       "      <td>19</td>\n",
       "      <td>1441</td>\n",
       "    </tr>\n",
       "    <tr>\n",
       "      <td>1</td>\n",
       "      <td>Bottis</td>\n",
       "      <td>Jupyter Notebook</td>\n",
       "      <td>6006</td>\n",
       "      <td>1</td>\n",
       "      <td>199</td>\n",
       "    </tr>\n",
       "    <tr>\n",
       "      <td>2</td>\n",
       "      <td>rasa-ptbr-boilerplate</td>\n",
       "      <td>Jupyter Notebook</td>\n",
       "      <td>7226</td>\n",
       "      <td>8</td>\n",
       "      <td>204</td>\n",
       "    </tr>\n",
       "    <tr>\n",
       "      <td>3</td>\n",
       "      <td>BotFlow</td>\n",
       "      <td>JavaScript</td>\n",
       "      <td>4690</td>\n",
       "      <td>3</td>\n",
       "      <td>267</td>\n",
       "    </tr>\n",
       "    <tr>\n",
       "      <td>4</td>\n",
       "      <td>BotFlowAPI</td>\n",
       "      <td>Python</td>\n",
       "      <td>2486</td>\n",
       "      <td>4</td>\n",
       "      <td>147</td>\n",
       "    </tr>\n",
       "    <tr>\n",
       "      <td>5</td>\n",
       "      <td>PromovaCultura</td>\n",
       "      <td>JavaScript</td>\n",
       "      <td>129436</td>\n",
       "      <td>18</td>\n",
       "      <td>229</td>\n",
       "    </tr>\n",
       "    <tr>\n",
       "      <td>6</td>\n",
       "      <td>salic-ml</td>\n",
       "      <td>Jupyter Notebook</td>\n",
       "      <td>85804</td>\n",
       "      <td>18</td>\n",
       "      <td>638</td>\n",
       "    </tr>\n",
       "    <tr>\n",
       "      <td>7</td>\n",
       "      <td>salic-ml-frontend</td>\n",
       "      <td>Vue</td>\n",
       "      <td>20926</td>\n",
       "      <td>13</td>\n",
       "      <td>113</td>\n",
       "    </tr>\n",
       "    <tr>\n",
       "      <td>8</td>\n",
       "      <td>salic-ml-web</td>\n",
       "      <td>Python</td>\n",
       "      <td>2320</td>\n",
       "      <td>14</td>\n",
       "      <td>234</td>\n",
       "    </tr>\n",
       "    <tr>\n",
       "      <td>9</td>\n",
       "      <td>lappis-learning</td>\n",
       "      <td>Python</td>\n",
       "      <td>2174</td>\n",
       "      <td>12</td>\n",
       "      <td>299</td>\n",
       "    </tr>\n",
       "    <tr>\n",
       "      <td>10</td>\n",
       "      <td>EcossistemasSWLivre</td>\n",
       "      <td>TeX</td>\n",
       "      <td>521923</td>\n",
       "      <td>23</td>\n",
       "      <td>133</td>\n",
       "    </tr>\n",
       "  </tbody>\n",
       "</table>\n",
       "</div>"
      ],
      "text/plain": [
       "                  Projeto         Linguagem  Linhas de Código  \\\n",
       "0                    tais  Jupyter Notebook             25976   \n",
       "1                  Bottis  Jupyter Notebook              6006   \n",
       "2   rasa-ptbr-boilerplate  Jupyter Notebook              7226   \n",
       "3                 BotFlow        JavaScript              4690   \n",
       "4              BotFlowAPI            Python              2486   \n",
       "5          PromovaCultura        JavaScript            129436   \n",
       "6                salic-ml  Jupyter Notebook             85804   \n",
       "7       salic-ml-frontend               Vue             20926   \n",
       "8            salic-ml-web            Python              2320   \n",
       "9         lappis-learning            Python              2174   \n",
       "10    EcossistemasSWLivre               TeX            521923   \n",
       "\n",
       "    Esforço (Meses)  Commits  \n",
       "0                19     1441  \n",
       "1                 1      199  \n",
       "2                 8      204  \n",
       "3                 3      267  \n",
       "4                 4      147  \n",
       "5                18      229  \n",
       "6                18      638  \n",
       "7                13      113  \n",
       "8                14      234  \n",
       "9                12      299  \n",
       "10               23      133  "
      ]
     },
     "execution_count": 11,
     "metadata": {},
     "output_type": "execute_result"
    }
   ],
   "source": [
    "data = []\n",
    "for project_name in projects:\n",
    "    repo = org.get_repo(project_name)\n",
    "    loc = return_loc(repo.name)\n",
    "    effort_months = (datetime.now() - repo.created_at).days//30\n",
    "    data.append([repo.name, repo.language, loc, effort_months, repo.get_commits().totalCount])\n",
    "pd.DataFrame(data, columns=[\"Projeto\", \"Linguagem\", \"Linhas de Código\", \"Esforço (Meses)\", \"Commits\"])"
   ]
  },
  {
   "cell_type": "markdown",
   "metadata": {},
   "source": [
    "### Contribuidores da Organização"
   ]
  },
  {
   "cell_type": "code",
   "execution_count": 131,
   "metadata": {
    "scrolled": true
   },
   "outputs": [
    {
     "name": "stdout",
     "output_type": "stream",
     "text": [
      "Peter Lima\n",
      "Is lappis? 1\n",
      "João Vitor Ramos\n",
      "Is lappis? 1\n",
      "Andrey Luiz\n",
      "Is lappis? 0\n",
      "John Szaszvari\n",
      "Is lappis? 0\n",
      "Bruna Moreira\n",
      "Is lappis? 1\n",
      "Yuri Reis\n",
      "Is lappis? 0\n",
      "Aaron Ogle\n",
      "Is lappis? 0\n",
      "SingLi\n",
      "Is lappis? 0\n",
      "Marcos Ellys Rocha Honorato\n",
      "Is lappis? 0\n",
      "Filipe Voges\n",
      "Is lappis? 0\n",
      "Victor Moura\n",
      "Is lappis? 1\n",
      "Izabela Cardoso\n",
      "Is lappis? 1\n",
      "Iuri Severo\n",
      "Is lappis? 0\n",
      "Júlia Grala\n",
      "Is lappis? 0\n",
      "Rodrigo Nascimento\n",
      "Is lappis? 0\n",
      "Felipe Duerno\n",
      "Is lappis? 1\n",
      "Leonardo da Silva Gomes\n",
      "Is lappis? 1\n",
      "Diego Dorgam\n",
      "Is lappis? 1\n",
      "Kamilla Costa Souza\n",
      "Is lappis? 1\n",
      "Eduardo Nunes\n",
      "Is lappis? 1\n",
      "Guilherme Lacerda\n",
      "Is lappis? 1\n",
      "Pablo Diego Silva da Silva\n",
      "Is lappis? 1\n",
      "Rodrigo Maia\n",
      "Is lappis? 1\n",
      "Bruna Pinos\n",
      "Is lappis? 1\n",
      "Gabriela Guedes\n",
      "Is lappis? 1\n",
      "Arthur Temporim\n",
      "Is lappis? 1\n",
      "Carla Rocha\n",
      "Is lappis? 1\n",
      "Matheus de Sousa Faria\n",
      "Is lappis? 1\n",
      "Paloma C. Mamede\n",
      "Is lappis? 1\n",
      "Alexandre Augusto\n",
      "Is lappis? 0\n",
      "Pedro Igor\n",
      "Is lappis? 0\n",
      "André Freitas\n",
      "Is lappis? 0\n",
      "Rodrigo Oliveira\n",
      "Is lappis? 1\n",
      "Joenio Costa\n",
      "Is lappis? 1\n",
      "João Guilherme\n",
      "Is lappis? 1\n",
      "Ygor Galeno\n",
      "Is lappis? 1\n",
      "Ezequiel de Oliveira \n",
      "Is lappis? 1\n",
      "Victor Navarro\n",
      "Is lappis? 1\n",
      "Fábio Teixeira\n",
      "Is lappis? 1\n",
      "Fábio Macêdo Mendes\n",
      "Is lappis? 1\n",
      "Lucas Mattioli\n",
      "Is lappis? 1\n",
      "Luciano\n",
      "Is lappis? 1\n",
      "Fabíola Fleury\n",
      "Is lappis? 1\n",
      "Marlon Mendes\n",
      "Is lappis? 1\n",
      "Edson Lek Hong Ma\n",
      "Is lappis? 1\n",
      "Ricardo Poppi\n",
      "Is lappis? 1\n",
      "33 {'Matheus de Sousa Faria', 'Felipe Duerno', 'Ygor Galeno', 'Leonardo da Silva Gomes', 'Carla Rocha', 'Lucas Mattioli', 'Victor Moura', 'Fábio Teixeira', 'Ezequiel de Oliveira ', 'Arthur Temporim', 'Eduardo Nunes', 'Joenio Costa', 'Ricardo Poppi', 'Fábio Macêdo Mendes', 'Peter Lima', 'Fabíola Fleury', 'Pablo Diego Silva da Silva', 'Marlon Mendes', 'Gabriela Guedes', 'Paloma C. Mamede', 'Guilherme Lacerda', 'Bruna Pinos', 'Luciano', 'Rodrigo Maia', 'Bruna Moreira', 'Kamilla Costa Souza', 'Diego Dorgam', 'Edson Lek Hong Ma', 'Izabela Cardoso', 'Victor Navarro', 'João Vitor Ramos', 'João Guilherme', 'Rodrigo Oliveira'}\n",
      "13 {'Andrey Luiz', 'Marcos Ellys Rocha Honorato', 'Filipe Voges', 'Júlia Grala', 'Pedro Igor', 'André Freitas', 'John Szaszvari', 'Aaron Ogle', 'Iuri Severo', 'Alexandre Augusto', 'Rodrigo Nascimento', 'SingLi', 'Yuri Reis'}\n"
     ]
    }
   ],
   "source": [
    "contributors = set()\n",
    "external =set()\n",
    "for project_name in projects:\n",
    "    repo = org.get_repo(project_name)\n",
    "    contribs = repo.get_stats_contributors()\n",
    "    for contrib in contribs:\n",
    "        name = contrib.author.name\n",
    "        if not name == None:\n",
    "            if not name in contributors and not name in external:\n",
    "                print(name)\n",
    "                is_lappis = int(input(\"Is lappis? \"))\n",
    "                if is_lappis:\n",
    "                    contributors.add(name)\n",
    "                else:\n",
    "                    external.add(name)\n",
    "        \n",
    "print(len(contributors), contributors)\n",
    "print(len(external), external)"
   ]
  },
  {
   "cell_type": "markdown",
   "metadata": {},
   "source": [
    "LAPPIS: 33 Pessoas:\n",
    "{'Matheus de Sousa Faria', 'Felipe Duerno', 'Ygor Galeno', 'Leonardo da Silva Gomes', 'Carla Rocha', 'Lucas Mattioli', 'Victor Moura', 'Fábio Teixeira', 'Ezequiel de Oliveira ', 'Arthur Temporim', 'Eduardo Nunes', 'Joenio Costa', 'Ricardo Poppi', 'Fábio Macêdo Mendes', 'Peter Lima', 'Fabíola Fleury', 'Pablo Diego Silva da Silva', 'Marlon Mendes', 'Gabriela Guedes', 'Paloma C. Mamede', 'Guilherme Lacerda', 'Bruna Pinos', 'Luciano', 'Rodrigo Maia', 'Bruna Moreira', 'Kamilla Costa Souza', 'Diego Dorgam', 'Edson Lek Hong Ma', 'Izabela Cardoso', 'Victor Navarro', 'João Vitor Ramos', 'João Guilherme', 'Rodrigo Oliveira'}\n",
    "\n",
    "Contribuidores externos: 13 Pessoas:\n",
    "{'Andrey Luiz', 'Marcos Ellys Rocha Honorato', 'Filipe Voges', 'Júlia Grala', 'Pedro Igor', 'André Freitas', 'John Szaszvari', 'Aaron Ogle', 'Iuri Severo', 'Alexandre Augusto', 'Rodrigo Nascimento', 'SingLi', 'Yuri Reis'}"
   ]
  },
  {
   "cell_type": "markdown",
   "metadata": {},
   "source": [
    "### Contribuidores do LAPPIS\n",
    "LAPPIS: 33 Pessoas:\n",
    "{'Matheus de Sousa Faria', 'Felipe Duerno', 'Ygor Galeno', 'Leonardo da Silva Gomes', 'Carla Rocha', 'Lucas Mattioli', 'Victor Moura', 'Fábio Teixeira', 'Ezequiel de Oliveira ', 'Arthur Temporim', 'Eduardo Nunes', 'Joenio Costa', 'Ricardo Poppi', 'Fábio Macêdo Mendes', 'Peter Lima', 'Fabíola Fleury', 'Pablo Diego Silva da Silva', 'Marlon Mendes', 'Gabriela Guedes', 'Paloma C. Mamede', 'Guilherme Lacerda', 'Bruna Pinos', 'Luciano', 'Rodrigo Maia', 'Bruna Moreira', 'Kamilla Costa Souza', 'Diego Dorgam', 'Edson Lek Hong Ma', 'Izabela Cardoso', 'Victor Navarro', 'João Vitor Ramos', 'João Guilherme', 'Rodrigo Oliveira'}\n",
    "\n",
    "Contribuidores externos: 13 Pessoas:\n",
    "{'Andrey Luiz', 'Marcos Ellys Rocha Honorato', 'Filipe Voges', 'Júlia Grala', 'Pedro Igor', 'André Freitas', 'John Szaszvari', 'Aaron Ogle', 'Iuri Severo', 'Alexandre Augusto', 'Rodrigo Nascimento', 'SingLi', 'Yuri Reis'}\n",
    "\n",
    "### Contribuições notáveis\n",
    "#### Rasa\n",
    "    - Miranda: 16 commits\n",
    "    - Temporim: 49 commit\n",
    "    - Gabi Guedes: 17 commits\n",
    "#### RocketChat\n",
    "    - Temporim: 105 commits\n",
    "    - Faria: 17 commits\n",
    "    - Miranda: 1 commit\n",
    "    - Eduardo: 3 commits\n",
    "    - Duerno: 5 commits\n",
    "    \n"
   ]
  },
  {
   "cell_type": "markdown",
   "metadata": {},
   "source": [
    "# Métricas Específicas por Repositório"
   ]
  },
  {
   "cell_type": "code",
   "execution_count": 120,
   "metadata": {},
   "outputs": [],
   "source": [
    "# Mude o nome do repositório aqui\n",
    "repo = org.get_repo(\"tais\")"
   ]
  },
  {
   "cell_type": "markdown",
   "metadata": {},
   "source": [
    "## Informações do repositório"
   ]
  },
  {
   "cell_type": "markdown",
   "metadata": {},
   "source": [
    "### Nome Do Repositório"
   ]
  },
  {
   "cell_type": "code",
   "execution_count": 121,
   "metadata": {},
   "outputs": [
    {
     "data": {
      "text/plain": [
       "'lappis-learning'"
      ]
     },
     "execution_count": 121,
     "metadata": {},
     "output_type": "execute_result"
    }
   ],
   "source": [
    "repo.name"
   ]
  },
  {
   "cell_type": "markdown",
   "metadata": {},
   "source": [
    "### Quantidade De Estrelas"
   ]
  },
  {
   "cell_type": "code",
   "execution_count": 122,
   "metadata": {},
   "outputs": [
    {
     "data": {
      "text/plain": [
       "0"
      ]
     },
     "execution_count": 122,
     "metadata": {},
     "output_type": "execute_result"
    }
   ],
   "source": [
    "repo.stargazers_count"
   ]
  },
  {
   "cell_type": "markdown",
   "metadata": {},
   "source": [
    "### Quantidade De Contribuidores"
   ]
  },
  {
   "cell_type": "code",
   "execution_count": 123,
   "metadata": {},
   "outputs": [
    {
     "data": {
      "text/plain": [
       "7"
      ]
     },
     "execution_count": 123,
     "metadata": {},
     "output_type": "execute_result"
    }
   ],
   "source": [
    "len(repo.get_stats_contributors())"
   ]
  },
  {
   "cell_type": "markdown",
   "metadata": {},
   "source": [
    "### Quantidade De Commits"
   ]
  },
  {
   "cell_type": "code",
   "execution_count": 124,
   "metadata": {},
   "outputs": [
    {
     "data": {
      "text/plain": [
       "299"
      ]
     },
     "execution_count": 124,
     "metadata": {},
     "output_type": "execute_result"
    }
   ],
   "source": [
    "repo.get_commits().totalCount"
   ]
  },
  {
   "cell_type": "markdown",
   "metadata": {},
   "source": [
    "### Quantidade De Arquivos"
   ]
  },
  {
   "cell_type": "code",
   "execution_count": 125,
   "metadata": {},
   "outputs": [
    {
     "name": "stdout",
     "output_type": "stream",
     "text": [
      "Arquivos únicos: 41\n"
     ]
    }
   ],
   "source": [
    "contents = repo.get_contents(\"\")\n",
    "counter = 0\n",
    "while contents:\n",
    "     file_content = contents.pop(0)\n",
    "     if file_content.type == \"dir\":\n",
    "         contents.extend(repo.get_contents(file_content.path))\n",
    "     else:\n",
    "         counter+=1\n",
    "print(\"Arquivos únicos: %d\" % counter)      "
   ]
  },
  {
   "cell_type": "markdown",
   "metadata": {},
   "source": [
    "### Quantidade De Linhas Adicionadas/Removidas"
   ]
  },
  {
   "cell_type": "code",
   "execution_count": 126,
   "metadata": {},
   "outputs": [
    {
     "name": "stdout",
     "output_type": "stream",
     "text": [
      "Linhas Adicionadas: 3011198\n",
      "Linhas Removidas: 3016769\n"
     ]
    }
   ],
   "source": [
    "contributors_stats = repo.get_stats_contributors()\n",
    "\n",
    "additions = 0\n",
    "deletions = 0\n",
    "\n",
    "for stat in contributors_stats:\n",
    "    for week in stat.weeks:\n",
    "        additions += week.a        \n",
    "        deletions += week.d       \n",
    "\n",
    "print(\"Linhas Adicionadas: %d\" % additions)\n",
    "print(\"Linhas Removidas: %d\" % deletions)"
   ]
  },
  {
   "cell_type": "markdown",
   "metadata": {},
   "source": [
    "### Quantidade de Issues (Abertas/Fechadas)"
   ]
  },
  {
   "cell_type": "code",
   "execution_count": 127,
   "metadata": {},
   "outputs": [
    {
     "name": "stdout",
     "output_type": "stream",
     "text": [
      "Issues fechadas: 0\n",
      "Issues ainda abertas: 0\n",
      "Total de Issues: 0\n"
     ]
    }
   ],
   "source": [
    "total_issues = repo.get_issues(state=\"all\")\n",
    "\n",
    "def issue_is_closed(issues):\n",
    "    closed_issues = []        \n",
    "    open_issues = []        \n",
    "    for issue in issues:\n",
    "        if issue.closed_at is not None:\n",
    "            closed_issues.append(issue)\n",
    "        else: \n",
    "            open_issues.append(issue)\n",
    "    return closed_issues, open_issues\n",
    "\n",
    "issues = []\n",
    "pull_requests = []\n",
    "for issue in total_issues:\n",
    "    if issue.pull_request is None:\n",
    "        issues.append(issue)\n",
    "    else:\n",
    "        pull_requests.append(issue)\n",
    "        \n",
    "closed_issues, open_issues = issue_is_closed(issues)\n",
    "\n",
    "        \n",
    "print(\"Issues fechadas: %d\" % len(list(closed_issues)))\n",
    "print(\"Issues ainda abertas: %d\" % len(list(open_issues)))\n",
    "print(\"Total de Issues: %d\" % len(list(issues)))"
   ]
  },
  {
   "cell_type": "markdown",
   "metadata": {},
   "source": [
    "### Quantidade de Pull Requests (Abertos/Fechados)"
   ]
  },
  {
   "cell_type": "code",
   "execution_count": 128,
   "metadata": {},
   "outputs": [
    {
     "name": "stdout",
     "output_type": "stream",
     "text": [
      "Pull Requests fechados: 4\n",
      "Pull Requests ainda abertos: 0\n",
      "Total de Pull Requests: 4\n"
     ]
    }
   ],
   "source": [
    "closed_prs, open_prs = issue_is_closed(pull_requests)\n",
    "\n",
    "\n",
    "print(\"Pull Requests fechados: %d\" % len(list(closed_prs)))\n",
    "print(\"Pull Requests ainda abertos: %d\" % len(list(open_prs)))\n",
    "print(\"Total de Pull Requests: %d\" % len(list(pull_requests)))"
   ]
  }
 ],
 "metadata": {
  "kernelspec": {
   "display_name": "Python 3",
   "language": "python",
   "name": "python3"
  },
  "language_info": {
   "codemirror_mode": {
    "name": "ipython",
    "version": 3
   },
   "file_extension": ".py",
   "mimetype": "text/x-python",
   "name": "python",
   "nbconvert_exporter": "python",
   "pygments_lexer": "ipython3",
   "version": "3.7.3"
  }
 },
 "nbformat": 4,
 "nbformat_minor": 2
}
