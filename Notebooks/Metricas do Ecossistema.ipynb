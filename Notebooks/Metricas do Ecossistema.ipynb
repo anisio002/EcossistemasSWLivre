{
 "cells": [
  {
   "cell_type": "markdown",
   "metadata": {},
   "source": [
    "# Métricas Específicas por Repositório"
   ]
  },
  {
   "cell_type": "code",
   "execution_count": 1,
   "metadata": {},
   "outputs": [],
   "source": [
    "from github import Github\n",
    "\n",
    "'''\n",
    "Github won't let me commit the token, so you should generate your own using this link:\n",
    "https://github.com/settings/tokens/new\n",
    "''' \n",
    "g = Github(\"<token>\")"
   ]
  },
  {
   "cell_type": "code",
   "execution_count": 2,
   "metadata": {},
   "outputs": [],
   "source": [
    "org = g.get_organization(\"lappis-unb\")"
   ]
  },
  {
   "cell_type": "code",
   "execution_count": 50,
   "metadata": {},
   "outputs": [],
   "source": [
    "# Mude o nome do repositório aqui\n",
    "repo = org.get_repo(\"tais\")"
   ]
  },
  {
   "cell_type": "markdown",
   "metadata": {},
   "source": [
    "## Informações do repositório"
   ]
  },
  {
   "cell_type": "markdown",
   "metadata": {},
   "source": [
    "### Nome Do Repositório"
   ]
  },
  {
   "cell_type": "code",
   "execution_count": 51,
   "metadata": {},
   "outputs": [
    {
     "data": {
      "text/plain": [
       "'tais'"
      ]
     },
     "execution_count": 51,
     "metadata": {},
     "output_type": "execute_result"
    }
   ],
   "source": [
    "repo.name"
   ]
  },
  {
   "cell_type": "markdown",
   "metadata": {},
   "source": [
    "### Quantidade De Estrelas"
   ]
  },
  {
   "cell_type": "code",
   "execution_count": 52,
   "metadata": {},
   "outputs": [
    {
     "data": {
      "text/plain": [
       "46"
      ]
     },
     "execution_count": 52,
     "metadata": {},
     "output_type": "execute_result"
    }
   ],
   "source": [
    "repo.stargazers_count"
   ]
  },
  {
   "cell_type": "markdown",
   "metadata": {},
   "source": [
    "### Quantidade De Arquivos"
   ]
  },
  {
   "cell_type": "code",
   "execution_count": 53,
   "metadata": {},
   "outputs": [
    {
     "name": "stdout",
     "output_type": "stream",
     "text": [
      "Arquivos únicos: 224\n"
     ]
    }
   ],
   "source": [
    "contents = repo.get_contents(\"\")\n",
    "counter = 0\n",
    "while contents:\n",
    "     file_content = contents.pop(0)\n",
    "     if file_content.type == \"dir\":\n",
    "         contents.extend(repo.get_contents(file_content.path))\n",
    "     else:\n",
    "         counter+=1\n",
    "print(\"Arquivos únicos: %d\" % counter)      "
   ]
  },
  {
   "cell_type": "markdown",
   "metadata": {},
   "source": [
    "### Quantidade De Linhas Adicionadas/Removidas"
   ]
  },
  {
   "cell_type": "code",
   "execution_count": 54,
   "metadata": {},
   "outputs": [
    {
     "name": "stdout",
     "output_type": "stream",
     "text": [
      "Linhas Adicionadas: 167684\n",
      "Linhas Removidas: 166099\n"
     ]
    }
   ],
   "source": [
    "contributors_stats = repo.get_stats_contributors()\n",
    "\n",
    "additions = 0\n",
    "deletions = 0\n",
    "\n",
    "for stat in contributors_stats:\n",
    "    for week in stat.weeks:\n",
    "        additions += week.a        \n",
    "        deletions += week.d       \n",
    "\n",
    "print(\"Linhas Adicionadas: %d\" % additions)\n",
    "print(\"Linhas Removidas: %d\" % deletions)"
   ]
  },
  {
   "cell_type": "markdown",
   "metadata": {},
   "source": [
    "### Quantidade de Issues (Abertas/Fechadas)"
   ]
  },
  {
   "cell_type": "code",
   "execution_count": 55,
   "metadata": {},
   "outputs": [
    {
     "name": "stdout",
     "output_type": "stream",
     "text": [
      "Issues fechadas: 384\n",
      "Issues ainda abertas: 42\n",
      "Total de Issues: 426\n"
     ]
    }
   ],
   "source": [
    "total_issues = repo.get_issues(state=\"all\")\n",
    "\n",
    "def issue_is_closed(issues):\n",
    "    closed_issues = []        \n",
    "    open_issues = []        \n",
    "    for issue in issues:\n",
    "        if issue.closed_at is not None:\n",
    "            closed_issues.append(issue)\n",
    "        else: \n",
    "            open_issues.append(issue)\n",
    "    return closed_issues, open_issues\n",
    "\n",
    "issues = []\n",
    "pull_requests = []\n",
    "for issue in total_issues:\n",
    "    if issue.pull_request is None:\n",
    "        issues.append(issue)\n",
    "    else:\n",
    "        pull_requests.append(issue)\n",
    "        \n",
    "closed_issues, open_issues = issue_is_closed(issues)\n",
    "\n",
    "        \n",
    "print(\"Issues fechadas: %d\" % len(list(closed_issues)))\n",
    "print(\"Issues ainda abertas: %d\" % len(list(open_issues)))\n",
    "print(\"Total de Issues: %d\" % len(list(issues)))"
   ]
  },
  {
   "cell_type": "markdown",
   "metadata": {},
   "source": [
    "### Quantidade de Pull Requests (Abertos/Fechados)"
   ]
  },
  {
   "cell_type": "code",
   "execution_count": 56,
   "metadata": {},
   "outputs": [
    {
     "name": "stdout",
     "output_type": "stream",
     "text": [
      "Pull Requests fechados: 155\n",
      "Pull Requests ainda abertos: 1\n",
      "Total de Pull Requests: 156\n"
     ]
    }
   ],
   "source": [
    "closed_prs, open_prs = issue_is_closed(pull_requests)\n",
    "\n",
    "\n",
    "print(\"Pull Requests fechados: %d\" % len(list(closed_prs)))\n",
    "print(\"Pull Requests ainda abertos: %d\" % len(list(open_prs)))\n",
    "print(\"Total de Pull Requests: %d\" % len(list(pull_requests)))"
   ]
  },
  {
   "cell_type": "code",
   "execution_count": null,
   "metadata": {},
   "outputs": [],
   "source": []
  }
 ],
 "metadata": {
  "kernelspec": {
   "display_name": "Python 3",
   "language": "python",
   "name": "python3"
  },
  "language_info": {
   "codemirror_mode": {
    "name": "ipython",
    "version": 3
   },
   "file_extension": ".py",
   "mimetype": "text/x-python",
   "name": "python",
   "nbconvert_exporter": "python",
   "pygments_lexer": "ipython3",
   "version": "3.7.4"
  }
 },
 "nbformat": 4,
 "nbformat_minor": 2
}
