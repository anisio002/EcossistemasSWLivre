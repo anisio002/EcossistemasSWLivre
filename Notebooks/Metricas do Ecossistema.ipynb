{
 "cells": [
  {
   "cell_type": "markdown",
   "metadata": {},
   "source": [
    "# Métricas Gerais Do Ecossistema"
   ]
  },
  {
   "cell_type": "code",
   "execution_count": 62,
   "metadata": {},
   "outputs": [],
   "source": [
    "from github import Github\n",
    "from datetime import datetime\n",
    "import pandas as pd\n",
    "\n",
    "'''\n",
    "Github won't let me commit the token, so you should generate your own using this link:\n",
    "https://github.com/settings/tokens/new\n",
    "''' \n",
    "g = Github(\"3911f2882b2a10f13719d61c78862f72e35e3310\")\n",
    "org = g.get_organization(\"lappis-unb\")\n",
    "projects  = ['tais', 'Bottis', 'rasa-ptbr-boilerplate','BotFlow', 'BotFlowAPI', 'PromovaCultura', 'salic-ml', 'salic-ml-frontend', 'salic-ml-web' , 'lappis-learning', 'EcossistemasSWLivre'   ]"
   ]
  },
  {
   "cell_type": "code",
   "execution_count": 63,
   "metadata": {},
   "outputs": [],
   "source": [
    "def return_loc(repo):\n",
    "    contributors_stats = repo.get_stats_contributors()\n",
    "\n",
    "    additions = []\n",
    "    deletions = []\n",
    "\n",
    "    for stat in contributors_stats:\n",
    "        for week in stat.weeks:\n",
    "            additions.append(week.a)        \n",
    "            deletions.append(week.d)\n",
    "    return additions, deletions"
   ]
  },
  {
   "cell_type": "code",
   "execution_count": 72,
   "metadata": {},
   "outputs": [
    {
     "data": {
      "text/html": [
       "<div>\n",
       "<style scoped>\n",
       "    .dataframe tbody tr th:only-of-type {\n",
       "        vertical-align: middle;\n",
       "    }\n",
       "\n",
       "    .dataframe tbody tr th {\n",
       "        vertical-align: top;\n",
       "    }\n",
       "\n",
       "    .dataframe thead th {\n",
       "        text-align: right;\n",
       "    }\n",
       "</style>\n",
       "<table border=\"1\" class=\"dataframe\">\n",
       "  <thead>\n",
       "    <tr style=\"text-align: right;\">\n",
       "      <th></th>\n",
       "      <th>Projeto</th>\n",
       "      <th>Linguagem</th>\n",
       "      <th>Linhas De Código</th>\n",
       "      <th>Esforço (Meses)</th>\n",
       "      <th>Commits</th>\n",
       "    </tr>\n",
       "  </thead>\n",
       "  <tbody>\n",
       "    <tr>\n",
       "      <td>0</td>\n",
       "      <td>tais</td>\n",
       "      <td>Jupyter Notebook</td>\n",
       "      <td>1585</td>\n",
       "      <td>18</td>\n",
       "      <td>1435</td>\n",
       "    </tr>\n",
       "    <tr>\n",
       "      <td>1</td>\n",
       "      <td>Bottis</td>\n",
       "      <td>Jupyter Notebook</td>\n",
       "      <td>5972</td>\n",
       "      <td>0</td>\n",
       "      <td>193</td>\n",
       "    </tr>\n",
       "    <tr>\n",
       "      <td>2</td>\n",
       "      <td>rasa-ptbr-boilerplate</td>\n",
       "      <td>Jupyter Notebook</td>\n",
       "      <td>6367</td>\n",
       "      <td>7</td>\n",
       "      <td>178</td>\n",
       "    </tr>\n",
       "    <tr>\n",
       "      <td>3</td>\n",
       "      <td>BotFlow</td>\n",
       "      <td>JavaScript</td>\n",
       "      <td>3181</td>\n",
       "      <td>3</td>\n",
       "      <td>203</td>\n",
       "    </tr>\n",
       "    <tr>\n",
       "      <td>4</td>\n",
       "      <td>BotFlowAPI</td>\n",
       "      <td>Python</td>\n",
       "      <td>1404</td>\n",
       "      <td>3</td>\n",
       "      <td>101</td>\n",
       "    </tr>\n",
       "    <tr>\n",
       "      <td>5</td>\n",
       "      <td>PromovaCultura</td>\n",
       "      <td>JavaScript</td>\n",
       "      <td>130341</td>\n",
       "      <td>18</td>\n",
       "      <td>229</td>\n",
       "    </tr>\n",
       "    <tr>\n",
       "      <td>6</td>\n",
       "      <td>salic-ml</td>\n",
       "      <td>Jupyter Notebook</td>\n",
       "      <td>74545</td>\n",
       "      <td>18</td>\n",
       "      <td>638</td>\n",
       "    </tr>\n",
       "    <tr>\n",
       "      <td>7</td>\n",
       "      <td>salic-ml-frontend</td>\n",
       "      <td>Vue</td>\n",
       "      <td>20928</td>\n",
       "      <td>12</td>\n",
       "      <td>113</td>\n",
       "    </tr>\n",
       "    <tr>\n",
       "      <td>8</td>\n",
       "      <td>salic-ml-web</td>\n",
       "      <td>Python</td>\n",
       "      <td>6594</td>\n",
       "      <td>14</td>\n",
       "      <td>234</td>\n",
       "    </tr>\n",
       "    <tr>\n",
       "      <td>9</td>\n",
       "      <td>lappis-learning</td>\n",
       "      <td>Python</td>\n",
       "      <td>-5571</td>\n",
       "      <td>12</td>\n",
       "      <td>299</td>\n",
       "    </tr>\n",
       "    <tr>\n",
       "      <td>10</td>\n",
       "      <td>EcossistemasSWLivre</td>\n",
       "      <td>TeX</td>\n",
       "      <td>123748</td>\n",
       "      <td>23</td>\n",
       "      <td>127</td>\n",
       "    </tr>\n",
       "  </tbody>\n",
       "</table>\n",
       "</div>"
      ],
      "text/plain": [
       "                  Projeto         Linguagem  Linhas De Código  \\\n",
       "0                    tais  Jupyter Notebook              1585   \n",
       "1                  Bottis  Jupyter Notebook              5972   \n",
       "2   rasa-ptbr-boilerplate  Jupyter Notebook              6367   \n",
       "3                 BotFlow        JavaScript              3181   \n",
       "4              BotFlowAPI            Python              1404   \n",
       "5          PromovaCultura        JavaScript            130341   \n",
       "6                salic-ml  Jupyter Notebook             74545   \n",
       "7       salic-ml-frontend               Vue             20928   \n",
       "8            salic-ml-web            Python              6594   \n",
       "9         lappis-learning            Python             -5571   \n",
       "10    EcossistemasSWLivre               TeX            123748   \n",
       "\n",
       "    Esforço (Meses)  Commits  \n",
       "0                18     1435  \n",
       "1                 0      193  \n",
       "2                 7      178  \n",
       "3                 3      203  \n",
       "4                 3      101  \n",
       "5                18      229  \n",
       "6                18      638  \n",
       "7                12      113  \n",
       "8                14      234  \n",
       "9                12      299  \n",
       "10               23      127  "
      ]
     },
     "execution_count": 72,
     "metadata": {},
     "output_type": "execute_result"
    }
   ],
   "source": [
    "data = []\n",
    "for project_name in projects:\n",
    "    repo = org.get_repo(project_name)\n",
    "    additions, deletions = return_loc(repo)\n",
    "    effort_months = (datetime.now() - repo.created_at).days//30\n",
    "    data.append([repo.name, repo.language, sum(additions) - sum(deletions), effort_months , repo.get_commits().totalCount])\n",
    "pd.DataFrame(data, columns=[\"Projeto\", \"Linguagem\", \"Linhas De Código\", \"Esforço (Meses)\", \"Commits\"])"
   ]
  },
  {
   "cell_type": "markdown",
   "metadata": {},
   "source": [
    "# Métricas Específicas por Repositório"
   ]
  },
  {
   "cell_type": "code",
   "execution_count": 100,
   "metadata": {},
   "outputs": [],
   "source": [
    "# Mude o nome do repositório aqui\n",
    "repo = org.get_repo(\"lappis-learning\")"
   ]
  },
  {
   "cell_type": "markdown",
   "metadata": {},
   "source": [
    "## Informações do repositório"
   ]
  },
  {
   "cell_type": "markdown",
   "metadata": {},
   "source": [
    "### Nome Do Repositório"
   ]
  },
  {
   "cell_type": "code",
   "execution_count": 101,
   "metadata": {},
   "outputs": [
    {
     "data": {
      "text/plain": [
       "'lappis-learning'"
      ]
     },
     "execution_count": 101,
     "metadata": {},
     "output_type": "execute_result"
    }
   ],
   "source": [
    "repo.name"
   ]
  },
  {
   "cell_type": "markdown",
   "metadata": {},
   "source": [
    "### Quantidade De Estrelas"
   ]
  },
  {
   "cell_type": "code",
   "execution_count": 102,
   "metadata": {},
   "outputs": [
    {
     "data": {
      "text/plain": [
       "0"
      ]
     },
     "execution_count": 102,
     "metadata": {},
     "output_type": "execute_result"
    }
   ],
   "source": [
    "repo.stargazers_count"
   ]
  },
  {
   "cell_type": "markdown",
   "metadata": {},
   "source": [
    "### Quantidade De Contribuidores"
   ]
  },
  {
   "cell_type": "code",
   "execution_count": 103,
   "metadata": {},
   "outputs": [
    {
     "data": {
      "text/plain": [
       "7"
      ]
     },
     "execution_count": 103,
     "metadata": {},
     "output_type": "execute_result"
    }
   ],
   "source": [
    "len(repo.get_stats_contributors())"
   ]
  },
  {
   "cell_type": "markdown",
   "metadata": {},
   "source": [
    "### Quantidade De Commits"
   ]
  },
  {
   "cell_type": "code",
   "execution_count": 90,
   "metadata": {},
   "outputs": [
    {
     "data": {
      "text/plain": [
       "1435"
      ]
     },
     "execution_count": 90,
     "metadata": {},
     "output_type": "execute_result"
    }
   ],
   "source": [
    "repo.get_commits().totalCount"
   ]
  },
  {
   "cell_type": "markdown",
   "metadata": {},
   "source": [
    "### Quantidade De Arquivos"
   ]
  },
  {
   "cell_type": "code",
   "execution_count": 79,
   "metadata": {},
   "outputs": [
    {
     "name": "stdout",
     "output_type": "stream",
     "text": [
      "[ContentFile(path=\".gitignore\"), ContentFile(path=\".gitlab-ci.yml\"), ContentFile(path=\"LICENSE\"), ContentFile(path=\"docker-compose.yml\"), ContentFile(path=\"docker\"), ContentFile(path=\"requirements.txt\"), ContentFile(path=\"salicml\"), ContentFile(path=\"setup.py\")]\n",
      "Arquivos únicos: 41\n"
     ]
    }
   ],
   "source": [
    "contents = repo.get_contents(\"\")\n",
    "counter = 0\n",
    "while contents:\n",
    "     file_content = contents.pop(0)\n",
    "     if file_content.type == \"dir\":\n",
    "         contents.extend(repo.get_contents(file_content.path))\n",
    "     else:\n",
    "         counter+=1\n",
    "print(\"Arquivos únicos: %d\" % counter)      "
   ]
  },
  {
   "cell_type": "markdown",
   "metadata": {},
   "source": [
    "### Quantidade De Linhas Adicionadas/Removidas"
   ]
  },
  {
   "cell_type": "code",
   "execution_count": 54,
   "metadata": {},
   "outputs": [
    {
     "name": "stdout",
     "output_type": "stream",
     "text": [
      "Linhas Adicionadas: 167684\n",
      "Linhas Removidas: 166099\n"
     ]
    }
   ],
   "source": [
    "contributors_stats = repo.get_stats_contributors()\n",
    "\n",
    "additions = 0\n",
    "deletions = 0\n",
    "\n",
    "for stat in contributors_stats:\n",
    "    for week in stat.weeks:\n",
    "        additions += week.a        \n",
    "        deletions += week.d       \n",
    "\n",
    "print(\"Linhas Adicionadas: %d\" % additions)\n",
    "print(\"Linhas Removidas: %d\" % deletions)"
   ]
  },
  {
   "cell_type": "markdown",
   "metadata": {},
   "source": [
    "### Quantidade de Issues (Abertas/Fechadas)"
   ]
  },
  {
   "cell_type": "code",
   "execution_count": 55,
   "metadata": {},
   "outputs": [
    {
     "name": "stdout",
     "output_type": "stream",
     "text": [
      "Issues fechadas: 384\n",
      "Issues ainda abertas: 42\n",
      "Total de Issues: 426\n"
     ]
    }
   ],
   "source": [
    "total_issues = repo.get_issues(state=\"all\")\n",
    "\n",
    "def issue_is_closed(issues):\n",
    "    closed_issues = []        \n",
    "    open_issues = []        \n",
    "    for issue in issues:\n",
    "        if issue.closed_at is not None:\n",
    "            closed_issues.append(issue)\n",
    "        else: \n",
    "            open_issues.append(issue)\n",
    "    return closed_issues, open_issues\n",
    "\n",
    "issues = []\n",
    "pull_requests = []\n",
    "for issue in total_issues:\n",
    "    if issue.pull_request is None:\n",
    "        issues.append(issue)\n",
    "    else:\n",
    "        pull_requests.append(issue)\n",
    "        \n",
    "closed_issues, open_issues = issue_is_closed(issues)\n",
    "\n",
    "        \n",
    "print(\"Issues fechadas: %d\" % len(list(closed_issues)))\n",
    "print(\"Issues ainda abertas: %d\" % len(list(open_issues)))\n",
    "print(\"Total de Issues: %d\" % len(list(issues)))"
   ]
  },
  {
   "cell_type": "markdown",
   "metadata": {},
   "source": [
    "### Quantidade de Pull Requests (Abertos/Fechados)"
   ]
  },
  {
   "cell_type": "code",
   "execution_count": 56,
   "metadata": {},
   "outputs": [
    {
     "name": "stdout",
     "output_type": "stream",
     "text": [
      "Pull Requests fechados: 155\n",
      "Pull Requests ainda abertos: 1\n",
      "Total de Pull Requests: 156\n"
     ]
    }
   ],
   "source": [
    "closed_prs, open_prs = issue_is_closed(pull_requests)\n",
    "\n",
    "\n",
    "print(\"Pull Requests fechados: %d\" % len(list(closed_prs)))\n",
    "print(\"Pull Requests ainda abertos: %d\" % len(list(open_prs)))\n",
    "print(\"Total de Pull Requests: %d\" % len(list(pull_requests)))"
   ]
  },
  {
   "cell_type": "code",
   "execution_count": null,
   "metadata": {},
   "outputs": [],
   "source": []
  }
 ],
 "metadata": {
  "kernelspec": {
   "display_name": "Python 3",
   "language": "python",
   "name": "python3"
  },
  "language_info": {
   "codemirror_mode": {
    "name": "ipython",
    "version": 3
   },
   "file_extension": ".py",
   "mimetype": "text/x-python",
   "name": "python",
   "nbconvert_exporter": "python",
   "pygments_lexer": "ipython3",
   "version": "3.7.4"
  }
 },
 "nbformat": 4,
 "nbformat_minor": 2
}
